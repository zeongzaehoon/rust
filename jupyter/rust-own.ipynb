{
 "cells": [
  {
   "cell_type": "markdown",
   "id": "669c6f3e",
   "metadata": {},
   "source": [
    "## 5. 소유권\n",
    "- 메모리:\n",
    "\t+ 힙 영역: 더 느름, 글로벌하게 접근 가능.\n",
    "\t+ 스택 영역: 더 빠름, 동작에 반드시 필요한 값만 저장하도록 되어있음. 함수 실행이 되면 저장되고 함수 실행이 끝나면 자동으로 \n",
    "- 파이썬 메모리 관리:\n",
    "\t+ 모든 데이터를 힙 영역에 저장 -> *가비지 컬렉터*가 자동으로 할당, 해제함. 파이썬이 느린 결정적 이유\n",
    "- 러스트 메모리 관리:\n",
    "\t+ 스택, 힙 모두 사용\n",
    "\t+ 함수 내부(scope)에서 선언된 값들은 *스택*에 저장하고 사용\n",
    "\t+ global하게 선언된 값들은 *힙*에 저장하고 사용\n",
    "\t+ rust에서 scope는 {}\n"
   ]
  },
  {
   "cell_type": "markdown",
   "id": "9182dba2",
   "metadata": {},
   "source": [
    "### 5.1 스택 사용: 스코프\n",
    "- 러스트의 스코프 영역은 {}\n",
    "- 함수 내 지역 변수는 {} 기준으로 삭제된다.\n",
    "- 부모 함수일지라도 자식 함수 스코프에서 사용되면 메모리에서 해제된다.\n",
    "\t+ 자식 함수 스코프 이 외에도 함수가 쓰여야할 경우에 맞춰 소유권 돌려주기를 사용한다."
   ]
  },
  {
   "cell_type": "code",
   "execution_count": null,
   "id": "e540468a",
   "metadata": {},
   "outputs": [
    {
     "name": "stdout",
     "output_type": "stream",
     "text": [
      "var: string\n"
     ]
    },
    {
     "name": "stdout",
     "output_type": "stream",
     "text": [
      "foo: 1\n"
     ]
    }
   ],
   "source": [
    "fn stack () {\n",
    "\tlet var = \"string\";\n",
    "\tlet foo = 1;\n",
    "\tprintln!(\"var: {}\", var);\n",
    "\tprintln!(\"foo: {}\", foo);\n",
    "}\n",
    "\n",
    "stack();\n",
    "// println!(\"var: {}\", var);\n",
    "// println!(\"foo: {}\", foo);\n",
    "// var, foo는 stack 안에서만 사용 되고 함수 종료 시 메모리 스택에서 삭제됨. 따라서 주석처리된 애들은 에러가 남"
   ]
  },
  {
   "cell_type": "code",
   "execution_count": null,
   "id": "f8771923",
   "metadata": {},
   "outputs": [
    {
     "name": "stdout",
     "output_type": "stream",
     "text": [
      "2\n",
      "2\n"
     ]
    }
   ],
   "source": [
    "static var: i32 = 1;\n",
    "\n",
    "fn main() {\n",
    "\tprintln!(\"{}\", var+1);\n",
    "}\n",
    "\n",
    "main();\n",
    "println!(\"{}\", var+1);\n"
   ]
  },
  {
   "cell_type": "markdown",
   "id": "539ea971",
   "metadata": {},
   "source": [
    "### 5.2 소유권 규칙\n",
    "- 모든 **값**은 해당 값을 **소유**하는 소유자가 있습니다.\n",
    "- 한번에 하나의 소유자만 있을 수 있습니다. 동시에 한 값에 두 소유자가 있을 수 없습니다.\n",
    "- 소유자가 현재 코드의 스코프에서 벗어나면 값은 메모리에서 할당해제됩니다.\n",
    "- rust는 지정한 값의 소유권 유무로 앞으로 더 사용할지, 아니면 사용을 안할지 판단합니다."
   ]
  },
  {
   "cell_type": "code",
   "execution_count": null,
   "id": "41f3319d",
   "metadata": {},
   "outputs": [],
   "source": []
  }
 ],
 "metadata": {
  "kernelspec": {
   "display_name": "Rust",
   "language": "rust",
   "name": "rust"
  },
  "language_info": {
   "codemirror_mode": "rust",
   "file_extension": ".rs",
   "mimetype": "text/rust",
   "name": "rust",
   "pygment_lexer": "rust",
   "version": ""
  }
 },
 "nbformat": 4,
 "nbformat_minor": 5
}
