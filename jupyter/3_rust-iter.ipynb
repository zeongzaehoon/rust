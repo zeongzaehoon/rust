{
 "cells": [
  {
   "cell_type": "markdown",
   "id": "303fc527",
   "metadata": {},
   "source": [
    "## 5. 자료구조, 이터레이터\n",
    "- 자료구조: 컴퓨터에서 복수의 값들 모음을 효율적으로 나타내기 위한 방법\n",
    "\n",
    "\t|Python|Rust|\n",
    "\t|------|----|\n",
    "\t|list|vec|\n",
    "\t|np.array|array|\n",
    "\t|tuple|()|\n",
    "\t|Enum|Enum|\n",
    "\t|dict|std::collection::HashMap|\n",
    "\t|str|String, &str|"
   ]
  },
  {
   "cell_type": "code",
   "execution_count": 3,
   "id": "cd8dd068",
   "metadata": {
    "vscode": {
     "languageId": "rust"
    }
   },
   "outputs": [
    {
     "name": "stdout",
     "output_type": "stream",
     "text": [
      "1\n",
      "2\n",
      "3\n",
      "4\n",
      "5\n"
     ]
    }
   ],
   "source": [
    "// let num1 = 1;\n",
    "// let num2 = 2;\n",
    "// let num3 = 3;\n",
    "// let num4 = 4;\n",
    "// let num5 = 5;\n",
    "\n",
    "fn main() {\n",
    "\tlet nums = [1, 2, 3, 4, 5];\n",
    "\n",
    "\t// 배열 안의 값을 하나씩 꺼내서 출력\n",
    "\tfor num in nums {\n",
    "\t\tprintln!(\"{}\", num);\n",
    "\t}\n",
    "}\n",
    "\n",
    "main();"
   ]
  },
  {
   "cell_type": "markdown",
   "id": "9478d2da",
   "metadata": {},
   "source": [
    "### 5.1 vector\n",
    "- 가장 흔하게 쓰이는 자료구조"
   ]
  },
  {
   "cell_type": "code",
   "execution_count": null,
   "id": "0560b498",
   "metadata": {
    "vscode": {
     "languageId": "rust"
    }
   },
   "outputs": [
    {
     "name": "stdout",
     "output_type": "stream",
     "text": [
      "[1, 2, 3, 4, 5]\n",
      "[1, 2, 3, 4, 5]\n",
      "[1, 2, 3, 4, 5]\n"
     ]
    }
   ],
   "source": [
    "// vector 선언 방법\n",
    "\n",
    "fn main() {\n",
    "\tlet vec1 = Vec::from([1, 2, 3, 4, 5]);\n",
    "\tlet vec2 = vec![1, 2, 3, 4, 5];\n",
    "\tlet vec3 = (1..=5).collect::<Vec<_>>();\n",
    "\n",
    "\tprintln!(\"{:?}\", vec1);\n",
    "\tprintln!(\"{:?}\", vec2);\n",
    "\tprintln!(\"{:?}\", vec3);\n",
    "}\n",
    "\n",
    "main();"
   ]
  },
  {
   "cell_type": "code",
   "execution_count": 6,
   "id": "eaa07a5f",
   "metadata": {
    "vscode": {
     "languageId": "rust"
    }
   },
   "outputs": [
    {
     "name": "stdout",
     "output_type": "stream",
     "text": [
      "1\n"
     ]
    }
   ],
   "source": [
    "// 원소 접근\n",
    "// 파이썬\n",
    "// vec1 = [1, 2, 3, 4, 5]\n",
    "// num1 = vec1[0]\n",
    "\n",
    "fn main() {\n",
    "\tlet vec1 = vec![1, 2, 3, 4, 5];\n",
    "\tlet num1 = vec1[0];\n",
    "\tprintln!(\"{}\", num1);\n",
    "}\n",
    "\n",
    "main();\n"
   ]
  },
  {
   "cell_type": "code",
   "execution_count": 10,
   "id": "cb6b956f",
   "metadata": {
    "vscode": {
     "languageId": "rust"
    }
   },
   "outputs": [
    {
     "name": "stdout",
     "output_type": "stream",
     "text": [
      "[1, 2, 3, 4, 5, 6]\n"
     ]
    }
   ],
   "source": [
    "// 벡터에 값 추가하기\n",
    "// 파이썬\n",
    "// vec = [1, 2, 3, 4, 5]\n",
    "// vec.append(6)\n",
    "\n",
    "fn main() {\n",
    "\tlet mut vec1 = vec![1, 2, 3, 4, 5];\n",
    "\tvec1.push(6);\n",
    "\tprintln!(\"{:?}\", vec1);\n",
    "}\n",
    "\n",
    "main();"
   ]
  },
  {
   "cell_type": "code",
   "execution_count": 12,
   "id": "a9fa3adf",
   "metadata": {
    "vscode": {
     "languageId": "rust"
    }
   },
   "outputs": [
    {
     "name": "stdout",
     "output_type": "stream",
     "text": [
      "[1, 2, 3, 4, 5]\n",
      "2\n",
      "Some(5)\n",
      "[1, 3, 4]\n"
     ]
    }
   ],
   "source": [
    "// 벡터 내 값 삭제\n",
    "// 파이썬\n",
    "// vec1 = [1, 2, 3, 4, 5]\n",
    "// del vec1[0]\n",
    "\n",
    "fn main() {\n",
    "\tlet mut vec1 = vec![1, 2, 3, 4, 5];\n",
    "\tprintln!(\"{:?}\", vec1);\n",
    "\tlet vec2 = vec1.remove(1); // remove는 인덱스 넣을 수 있음. 제거된 원소 반환\n",
    "\tprintln!(\"{:?}\", vec2);\n",
    "\tlet vec3 = vec1.pop(); // pop은 인덱스 넣을 수 없고 마지막 원소 제거. 제거된 원소 반환\n",
    "\tprintln!(\"{:?}\", vec3);\n",
    "\tprintln!(\"{:?}\", vec1);\n",
    "}\n",
    "\n",
    "main();"
   ]
  },
  {
   "cell_type": "code",
   "execution_count": 20,
   "id": "bd3b6a1b",
   "metadata": {
    "vscode": {
     "languageId": "rust"
    }
   },
   "outputs": [
    {
     "name": "stderr",
     "output_type": "stream",
     "text": [
      "\n",
      "thread '<unnamed>' panicked at src/lib.rs:5:16:\n",
      "called `Option::unwrap()` on a `None` value\n",
      "stack backtrace:\n",
      "   0: __rustc::rust_begin_unwind\n",
      "   1: core::panicking::panic_fmt\n",
      "   2: core::panicking::panic\n",
      "   3: core::option::unwrap_failed\n",
      "   4: <unknown>\n",
      "   5: <unknown>\n",
      "   6: evcxr::runtime::Runtime::run_loop\n",
      "   7: evcxr::runtime::runtime_hook\n",
      "   8: evcxr_jupyter::main\n",
      "note: Some details are omitted, run with `RUST_BACKTRACE=full` for a verbose backtrace.\n"
     ]
    }
   ],
   "source": [
    "// 백터 내 값이 없는 상태에서 pop을 하면 에러가 남! wrap을 쓰면 없으면 없는데로~\n",
    "fn main() {\n",
    "\tlet mut vec1 = vec![1];\n",
    "\tvec1.pop().unwrap(); // unwrap은 예외처리. 나중에 자세히 공부할 것\n",
    "\tvec1.pop().unwrap();\n",
    "}\n",
    "\n",
    "main();"
   ]
  },
  {
   "cell_type": "code",
   "execution_count": 23,
   "id": "ecde0269",
   "metadata": {
    "vscode": {
     "languageId": "rust"
    }
   },
   "outputs": [
    {
     "name": "stdout",
     "output_type": "stream",
     "text": [
      "[0, 1, 2, 3, 4, 5, 6]\n",
      "0\n",
      "[1, 2, 3, 4, 5, 6]\n"
     ]
    }
   ],
   "source": [
    "// 데크?\n",
    "// 데크는 양쪽 끝에서 원소를 추가하고 제거할 수 있는 자료구조\n",
    "// 맨 앞에 원소를 자주 제거해줘야한다면, 시간 복잡도가 o(n)만큼 소요되니 데크, deque를 쓰는게 좋음\n",
    "// 파이썬의 deque와 같음\n",
    "// 파이썬\n",
    "// from collections import deque\n",
    "// deque1 = deque([1, 2, 3, 4, 5])\n",
    "// deque1.append(6)\n",
    "// deque1.appendleft(0)\n",
    "// deque1.pop()\n",
    "// deque1.popleft()\n",
    "\n",
    "use std::collections::VecDeque;\n",
    "\n",
    "fn main() {\n",
    "\tlet mut deq = VecDeque::from([1, 2, 3, 4, 5]);\n",
    "\tdeq.push_back(6);\n",
    "\tdeq.push_front(0);\n",
    "\tprintln!(\"{:?}\", deq);\n",
    "\tlet popfront_value = deq.pop_front().unwrap();\n",
    "\tprintln!(\"{:?}\", popfront_value);\n",
    "\tprintln!(\"{:?}\", deq);\n",
    "}\n",
    "\n",
    "main();"
   ]
  },
  {
   "cell_type": "code",
   "execution_count": null,
   "id": "7cf8d4a7",
   "metadata": {
    "vscode": {
     "languageId": "rust"
    }
   },
   "outputs": [],
   "source": [
    "fn fibonacci(n: u32) -> u32 {\n",
    "\tfn _fib(n: u32, cache: &mut Vec<u32>) -> u32 {\n",
    "\t\tif n < cache.len() as u32 { // 캐시에 입력된 값이 있으면 그 값을 출력\n",
    "\t\t\tcache[n as usize]\n",
    "\t\t} else { // 아니면 연산\n",
    "\t\t\tlet result = _fib(n - 1, cache) + _fib(n - 2, cache); // 재귀함수. 돌면서 캐쉬가 막 추가!!! 더해질수록 연산이 점점 줄어듬\n",
    "\t\t\tcache.push(result); // 연산 결과를 캐시에 추가\n",
    "\t\t\tresult // 연산 결과 반환\n",
    "\t\t}\n",
    "\t}\n",
    "\tlet mut cache = vec![0, 1]; // 캐시 초기화\n",
    "\t_fib(n, &mut cache) // 재귀함수 호출\n",
    "}\n",
    "\n",
    "fn main() {\n",
    "\tprintln!(\"{}\", fibonacci(10));\n",
    "}\n",
    "\n",
    "main();\n"
   ]
  },
  {
   "cell_type": "markdown",
   "id": "a6de3f11",
   "metadata": {},
   "source": [
    "### 5.2 배열(Array)\n",
    "- 같은 타입의 값이 모여 있는 길이가 고정된 값\n",
    "- 파이썬엔 없음. 비슷한건 np.array 정도?"
   ]
  },
  {
   "cell_type": "code",
   "execution_count": 24,
   "id": "be10815d",
   "metadata": {
    "vscode": {
     "languageId": "rust"
    }
   },
   "outputs": [
    {
     "name": "stdout",
     "output_type": "stream",
     "text": [
      "arr1: [1, 2, 3, 4, 5]\n",
      "arr2: [\"a\", \"b\", \"c\"]\n",
      "arr3: [3, 3, 3, 3, 3]\n"
     ]
    }
   ],
   "source": [
    "// numpy.array in python\n",
    "// import numpy as np\n",
    "// np.array([1, 2, 3, 4, 5])\n",
    "// np.array([\"a\", \"b\", \"c\"])\n",
    "\n",
    "// 배열 선언\n",
    "// np.full(5, 3)\n",
    "// -> [3, 3, 3, 3, 3]\n",
    "\n",
    "fn main() {\n",
    "\tlet arr1 = [1, 2, 3, 4, 5];\n",
    "\tlet arr2 = [\"a\", \"b\", \"c\"];\n",
    "\tlet arr3 = [3; 5];\n",
    "\tprintln!(\"arr1: {:?}\", arr1);\n",
    "\tprintln!(\"arr2: {:?}\", arr2);\n",
    "\tprintln!(\"arr3: {:?}\", arr3);\n",
    "}\n",
    "\n",
    "main();\n"
   ]
  },
  {
   "cell_type": "code",
   "execution_count": null,
   "id": "51f97e8b",
   "metadata": {
    "vscode": {
     "languageId": "rust"
    }
   },
   "outputs": [],
   "source": []
  }
 ],
 "metadata": {
  "kernelspec": {
   "display_name": "Rust",
   "language": "rust",
   "name": "rust"
  },
  "language_info": {
   "codemirror_mode": "rust",
   "file_extension": ".rs",
   "mimetype": "text/rust",
   "name": "Rust",
   "pygment_lexer": "rust",
   "version": ""
  }
 },
 "nbformat": 4,
 "nbformat_minor": 5
}
