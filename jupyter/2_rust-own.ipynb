{
 "cells": [
  {
   "cell_type": "markdown",
   "id": "669c6f3e",
   "metadata": {},
   "source": [
    "## 5. 소유권\n",
    "- 메모리:\n",
    "\t+ 힙 영역: 더 느름, 글로벌하게 접근 가능.\n",
    "\t+ 스택 영역: 더 빠름, 동작에 반드시 필요한 값만 저장하도록 되어있음. 함수 실행이 되면 저장되고 함수 실행이 끝나면 자동으로 \n",
    "- 파이썬 메모리 관리:\n",
    "\t+ 모든 데이터를 힙 영역에 저장 -> *가비지 컬렉터*가 자동으로 할당, 해제함. 파이썬이 느린 결정적 이유\n",
    "- 러스트 메모리 관리:\n",
    "\t+ 스택, 힙 모두 사용\n",
    "\t+ 함수 내부(scope)에서 선언된 값들은 *스택*에 저장하고 사용\n",
    "\t+ global하게 선언된 값들은 *힙*에 저장하고 사용\n",
    "\t+ rust에서 scope는 {}\n"
   ]
  },
  {
   "cell_type": "markdown",
   "id": "9182dba2",
   "metadata": {},
   "source": [
    "### 5.1 스택 사용: 스코프\n",
    "- 러스트의 스코프 영역은 {}\n",
    "- 함수 내 지역 변수는 {} 기준으로 삭제된다.\n",
    "- 부모 함수일지라도 자식 함수 스코프에서 사용되면 메모리에서 해제된다.\n",
    "\t+ 자식 함수 스코프 이 외에도 함수가 쓰여야할 경우에 맞춰 소유권 돌려주기를 사용한다."
   ]
  },
  {
   "cell_type": "code",
   "execution_count": null,
   "id": "e540468a",
   "metadata": {},
   "outputs": [
    {
     "name": "stdout",
     "output_type": "stream",
     "text": [
      "var: string\n"
     ]
    },
    {
     "name": "stdout",
     "output_type": "stream",
     "text": [
      "foo: 1\n"
     ]
    }
   ],
   "source": [
    "fn stack () {\n",
    "\tlet var = \"string\";\n",
    "\tlet foo = 1;\n",
    "\tprintln!(\"var: {}\", var);\n",
    "\tprintln!(\"foo: {}\", foo);\n",
    "}\n",
    "\n",
    "stack();\n",
    "// println!(\"var: {}\", var);\n",
    "// println!(\"foo: {}\", foo);\n",
    "// var, foo는 stack 안에서만 사용 되고 함수 종료 시 메모리 스택에서 삭제됨. 따라서 주석처리된 애들은 에러가 남"
   ]
  },
  {
   "cell_type": "code",
   "execution_count": null,
   "id": "f8771923",
   "metadata": {},
   "outputs": [
    {
     "name": "stdout",
     "output_type": "stream",
     "text": [
      "2\n",
      "2\n"
     ]
    }
   ],
   "source": [
    "static var: i32 = 1;\n",
    "\n",
    "fn main() {\n",
    "\tprintln!(\"{}\", var+1);\n",
    "}\n",
    "\n",
    "main();\n",
    "println!(\"{}\", var+1);\n"
   ]
  },
  {
   "cell_type": "markdown",
   "id": "539ea971",
   "metadata": {},
   "source": [
    "### 5.2 소유권 규칙\n",
    "- 모든 **값**은 해당 값을 **소유**하는 소유자가 있습니다.\n",
    "- 한번에 하나의 소유자만 있을 수 있습니다. 동시에 한 값에 두 소유자가 있을 수 없습니다.\n",
    "- 소유자가 현재 코드의 스코프에서 벗어나면 값은 메모리에서 할당해제됩니다.\n",
    "- rust는 지정한 값의 소유권 유무로 앞으로 더 사용할지, 아니면 사용을 안할지 판단합니다."
   ]
  },
  {
   "cell_type": "code",
   "execution_count": null,
   "id": "41f3319d",
   "metadata": {},
   "outputs": [
    {
     "name": "stdout",
     "output_type": "stream",
     "text": [
      "z: 3\n"
     ]
    }
   ],
   "source": [
    "// 스코프 규칙: ok\n",
    "fn main() {\n",
    "\tlet x = 1;\n",
    "\tlet y = 2;\n",
    "\t{\n",
    "\t\tlet z = x + y;\n",
    "\t\tprintln!(\"z: {}\", z);\n",
    "\t}\n",
    "\t// println!(\"z: {}\", z); # error\n",
    "}\n",
    "\n",
    "main();"
   ]
  },
  {
   "cell_type": "code",
   "execution_count": 5,
   "id": "fc50afbf",
   "metadata": {},
   "outputs": [
    {
     "ename": "Error",
     "evalue": "cannot find value `z` in this scope",
     "output_type": "error",
     "traceback": [
      "\tprintln!(\"z: {}\", z);",
      "\u001b[91m                   ^\u001b[0m \u001b[94merror: cannot find value `z` in this scope\u001b[0m",
      "cannot find value `z` in this scope",
      "\u001b[1mhelp\u001b[0m: the binding `z` is available in a different scope in the same function"
     ]
    }
   ],
   "source": [
    "// 스코프 규칙: error\n",
    "fn main() {\n",
    "\tlet x = 1;\n",
    "\tlet y = 2;\n",
    "\t{\n",
    "\t\tlet z = x + y;\n",
    "\t\t// println!(\"z: {}\", z);\n",
    "\t} // 여기서 나오는 순간 z 데이터는 할당해제됨\n",
    "\tprintln!(\"z: {}\", z);\n",
    "}\n",
    "\n",
    "main();"
   ]
  },
  {
   "cell_type": "code",
   "execution_count": null,
   "id": "9097a665",
   "metadata": {},
   "outputs": [
    {
     "ename": "Error",
     "evalue": "borrow of moved value: `x`",
     "output_type": "error",
     "traceback": [
      "\tdummy(x);",
      "\u001b[91m       ^\u001b[0m \u001b[94mvalue moved here\u001b[0m",
      "\tprintln!(\"x: {}\", x);",
      "\u001b[91m                   ^\u001b[0m \u001b[94mvalue borrowed here after move\u001b[0m",
      "\tlet x = String::from(\"hello\");",
      "\u001b[91m     ^\u001b[0m \u001b[94mmove occurs because `x` has type `String`, which does not implement the `Copy` trait\u001b[0m",
      "borrow of moved value: `x`",
      "\u001b[1mhelp\u001b[0m: consider cloning the value if the performance cost is acceptable\n\n.clone()"
     ]
    }
   ],
   "source": [
    "// 함수에서 파라미터를 전달할 때도 같은 원리가 적용됨!\n",
    "fn dummy(x: String) {\n",
    "\tprintln!(\"x: {}\", x);\n",
    "}\n",
    "\n",
    "fn main() {\n",
    "\tlet x = String::from(\"hello\");\n",
    "\tdummy(x);\n",
    "\tprintln!(\"x: {}\", x); // 이 라인 때문에 에러가 남. x는 파라미터 내부에 들어갔고 함수 밖 스코프로 나오는 순간 할당해제됨\n",
    "}\n",
    "\n",
    "main();"
   ]
  },
  {
   "cell_type": "markdown",
   "id": "e6f42918",
   "metadata": {},
   "source": [
    "#### 5.2.1 소유권 돌려주기, 소유권 대여\n",
    "- 스코프 벗어나도 그 값이 사라지지 않게 하려면?\n",
    "- 소유권 돌려주기: 메모리에 저장된 값의 소유권을 리턴해 넘겨주는 방식\n",
    "- 소유권 대여: 소유권을 가져가지 않고 해당 값을 참조하는 방법. **& 키워드 사용**"
   ]
  },
  {
   "cell_type": "code",
   "execution_count": null,
   "id": "52bf38f9",
   "metadata": {},
   "outputs": [
    {
     "name": "stdout",
     "output_type": "stream",
     "text": [
      "x: hello\n",
      "x: hello\n"
     ]
    }
   ],
   "source": [
    "// 소유권 돌려주기\n",
    "// 매번 함수의 값을 리턴해줘야하기 때문에 값이 어느 변수로 이동하는지 알기 어려움\n",
    "\n",
    "fn dummy(x: String) -> String {\n",
    "\tprintln!(\"x: {}\", x);\n",
    "\tx // return x 같은 느낌\n",
    "}\n",
    "\n",
    "fn main() {\n",
    "\tlet x = String::from(\"hello\");\n",
    "\tlet x = dummy(x);\n",
    "\tprintln!(\"x: {}\", x);\n",
    "}\n",
    "\n",
    "main();"
   ]
  },
  {
   "cell_type": "code",
   "execution_count": 9,
   "id": "59021126",
   "metadata": {},
   "outputs": [
    {
     "name": "stdout",
     "output_type": "stream",
     "text": [
      "x: hello\n",
      "y: hello\n",
      "z: hello\n"
     ]
    }
   ],
   "source": [
    "fn dummy(y: String) -> String {\n",
    "\tprintln!(\"y: {}\", y);\n",
    "\ty // return x 같은 느낌\n",
    "}\n",
    "\n",
    "fn main() {\n",
    "\tlet x = String::from(\"hello\");\n",
    "\tprintln!(\"x: {}\", x);\n",
    "\tlet z = dummy(x);\n",
    "\tprintln!(\"z: {}\", z);\n",
    "}\n",
    "\n",
    "main();"
   ]
  },
  {
   "cell_type": "code",
   "execution_count": 10,
   "id": "c2a3ddd5",
   "metadata": {},
   "outputs": [
    {
     "name": "stdout",
     "output_type": "stream",
     "text": [
      "before fn x: Hello\n",
      "y: Hello\n",
      "after fn x: Hello\n"
     ]
    }
   ],
   "source": [
    "// 레퍼런스와 소유권 대여\n",
    "// & 키워드 사용\n",
    "fn dummy(y: &String) {\n",
    "\tprintln!(\"y: {}\", y);\n",
    "} // 스코프 밖으로 나오는 순간, 소유권이 x에게 돌아감\n",
    "\n",
    "fn main() {\n",
    "\tlet x = String::from(\"Hello\");\n",
    "\tprintln!(\"before fn x: {}\", x);\n",
    "\tdummy(&x);\n",
    "\tprintln!(\"after fn x: {}\", x);\n",
    "}\n",
    "\n",
    "main();"
   ]
  },
  {
   "cell_type": "code",
   "execution_count": null,
   "id": "cdc8b3ef",
   "metadata": {},
   "outputs": [
    {
     "name": "stdout",
     "output_type": "stream",
     "text": [
      "before fn x: Hello\n",
      "y: Hello World\n",
      "after fn x: Hello World\n"
     ]
    }
   ],
   "source": [
    "// 소유권 대여한 레퍼런스 값은 기본적으로 변경 불가\n",
    "// 만약 변경하고 싶으면 가변변수로 먼저 선언하고 그 가변변수를 대여시켜줘야함\n",
    "\n",
    "fn dummy(y: &mut String) { // 3. 가변변수 대여 -> 함수 인자로 사용\n",
    "\ty.push_str(\" World\"); // 4. 가변변수 변경\n",
    "\tprintln!(\"y: {}\", y); // 5. 가변변수 출력\n",
    "}\n",
    "\n",
    "fn main() {\n",
    "\tlet mut x = String::from(\"Hello\"); //1. 가변변수 선언\n",
    "\tprintln!(\"before fn x: {}\", x);\n",
    "\tdummy(&mut x); //2. 가변변수 소유권 대여\n",
    "\tprintln!(\"after fn x: {}\", x); // 5, 변경된 가변변수 확인\n",
    "}\n",
    "\n",
    "main();"
   ]
  },
  {
   "cell_type": "code",
   "execution_count": 16,
   "id": "d9f39d85",
   "metadata": {},
   "outputs": [
    {
     "ename": "Error",
     "evalue": "cannot borrow `x` as mutable more than once at a time",
     "output_type": "error",
     "traceback": [
      "\tlet y = &mut x;",
      "\u001b[91m         ^^^^^^\u001b[0m \u001b[94mfirst mutable borrow occurs here\u001b[0m",
      "\tlet z = &mut x;",
      "\u001b[91m         ^^^^^^\u001b[0m \u001b[94msecond mutable borrow occurs here\u001b[0m",
      "\tprintln!(\"y: {}, z: {}\", y, z);",
      "\u001b[91m                          ^\u001b[0m \u001b[94mfirst borrow later used here\u001b[0m",
      "cannot borrow `x` as mutable more than once at a time"
     ]
    }
   ],
   "source": [
    "// 가변 레퍼런스로 소유권을 두 곳에 동시에 대여시킬 수 없음\n",
    "\n",
    "fn main() {\n",
    "\tlet mut x = String::from(\"Hello\");\n",
    "\tlet y = &mut x;\n",
    "\tlet z = &mut x;\n",
    "\tprintln!(\"y: {}, z: {}\", y, z);\n",
    "}\n",
    "\n",
    "main();"
   ]
  },
  {
   "cell_type": "code",
   "execution_count": null,
   "id": "39d4047f",
   "metadata": {},
   "outputs": [
    {
     "name": "stdout",
     "output_type": "stream",
     "text": [
      "y: Hello, z: Hello\n",
      "y: Hello, z: Hello\n"
     ]
    }
   ],
   "source": [
    "// 얜 소유권을 x가 가지고 있고 y, z는 단순히 레퍼런스만 가지고 있으므로 에러 X\n",
    "\n",
    "fn main() {\n",
    "\tlet mut x = String::from(\"Hello\");\n",
    "\tlet y = &x; // x의 값만 ref할 뿐, 이 값을 변경시킬 수 없음. 가변 변수를 대여했다고 하더라도!\n",
    "\tlet z = &x;\n",
    "\tprintln!(\"y: {}, z: {}\", y, z);\n",
    "\n",
    "\tlet x = String::from(\"Hello\");\n",
    "\tlet y = &x;\n",
    "\tlet z = &x;\n",
    "\tprintln!(\"y: {}, z: {}\", y, z);\n",
    "}\n",
    "\n",
    "main();"
   ]
  },
  {
   "cell_type": "markdown",
   "id": "251ee519",
   "metadata": {},
   "source": [
    "### 5.3 클로저와 소유권\n",
    "- 클로저는 익명함수\n",
    "- 클로저는 함수를 변수에 저장하고 함수 자체를 인자로 넘길 수 있음\n",
    "- 클로저 인자는 클로저 스코프 밖을 나가도 동일한 함수 내부에서 사용 가능"
   ]
  },
  {
   "cell_type": "code",
   "execution_count": 21,
   "id": "7278801d",
   "metadata": {},
   "outputs": [
    {
     "name": "stdout",
     "output_type": "stream",
     "text": [
      "5\n",
      "10\n",
      "15\n",
      "20\n",
      "25\n"
     ]
    }
   ],
   "source": [
    "fn main() {\n",
    "\tlet multiplier = 5;\n",
    "\n",
    "\tlet func = |x: i32| {x * multiplier};\n",
    "\n",
    "\tfor i in 1..=5 {\n",
    "\t\tprintln!(\"{}\", func(i));\n",
    "\t}\n",
    "}\n",
    "\n",
    "main();"
   ]
  },
  {
   "cell_type": "code",
   "execution_count": null,
   "id": "9b5f77bd",
   "metadata": {},
   "outputs": [
    {
     "name": "stdout",
     "output_type": "stream",
     "text": [
      "6\n",
      "14\n",
      "24\n",
      "36\n",
      "50\n"
     ]
    }
   ],
   "source": [
    "// 함수에 가변을 주면 환경에 있는 가변변수의 값을 변경시킬 수 있음. 스코프 밖도 변경됨\n",
    "fn main() {\n",
    "\tlet mut multiplier = 5;\n",
    "\n",
    "\tlet mut func = |x: i32| {\n",
    "\t\tmultiplier += 1;\n",
    "\t\tx * multiplier\n",
    "\t};\n",
    "\n",
    "\tfor i in 1..=5 {\n",
    "\t\tprintln!(\"{}\", func(i));\n",
    "\t}\n",
    "}\n",
    "\n",
    "main();"
   ]
  },
  {
   "cell_type": "code",
   "execution_count": null,
   "id": "9f8e9226",
   "metadata": {},
   "outputs": [
    {
     "ename": "Error",
     "evalue": "closure may outlive the current function, but it borrows `factor`, which is owned by the current function",
     "output_type": "error",
     "traceback": [
      "\t| x | x * factor",
      "\u001b[91m           ^^^^^^\u001b[0m \u001b[94m`factor` is borrowed here\u001b[0m",
      "\t| x | x * factor",
      "\u001b[91m ^^^^^\u001b[0m \u001b[94mmay outlive borrowed value `factor`\u001b[0m",
      "closure may outlive the current function, but it borrows `factor`, which is owned by the current function",
      "\u001b[1mhelp\u001b[0m: to force the closure to take ownership of `factor` (and any other referenced variables), use the `move` keyword\n\nmove"
     ]
    }
   ],
   "source": [
    "// MOVE를 사용한 소유권 이동 가능\n",
    "// move | param, ... | body;\n",
    "// 1. factory 변수가 클로저 안에 캡쳐될 때 소유권이 factory -> 클로저로 대여됨\n",
    "// 2. factory 함수가 끝나면, factor는 메모리 할당 해제됨. factor는 다시 사용할 수 없음\n",
    "// 3. 방법은 소유권을 클로저 안으로 이동시킴.\n",
    "\n",
    "fn factory(factor: i32) -> impl Fn(i32) -> i32 {\n",
    "\t| x | x * factor\n",
    "\t// factory는 클로저를 리턴해주는 함수.\n",
    "\t// 클로저의 x는 루프 돌며 들어오는 i.\n",
    "\t// 문제는 factor가 함수에 factory란 함수에 감싸져 있어, 스코프를 벗어나면 할당해제됨. multiplier=5는 해제\n",
    "\t// 반복문은 계속 돈다. 그러니까 x엔 계속 값이 들어오는데, factor(aka. multiplier)는 해제되어 더이상 사용 불가.\n",
    "\t// 해결방법은 소유권을 클로저 안으로 이동시키는 것.\n",
    "}\n",
    "\n",
    "fn main() {\n",
    "\tlet multiplier = 5;\n",
    "\tlet func = factory(multiplier);\n",
    "\tfor i in 1..=5 {\n",
    "\t\tprintln!(\"{}\", func(i));\n",
    "\t}\n",
    "}\n",
    "\n",
    "main();"
   ]
  },
  {
   "cell_type": "code",
   "execution_count": null,
   "id": "5a3cc47d",
   "metadata": {},
   "outputs": [
    {
     "name": "stdout",
     "output_type": "stream",
     "text": [
      "5\n",
      "10\n",
      "15\n",
      "20\n",
      "25\n"
     ]
    }
   ],
   "source": [
    "\n",
    "fn factory(factor: i32) -> impl Fn(i32) -> i32 {\n",
    "    move | x | x * factor // \n",
    "}\n",
    "\n",
    "fn main() {\n",
    "    let multiplier = 5;\n",
    "    let func = factory(multiplier);\n",
    "    for i in 1..=5 {\n",
    "        println!(\"{}\", func(i));\n",
    "    }\n",
    "}\n",
    "\n",
    "main();"
   ]
  }
 ],
 "metadata": {
  "kernelspec": {
   "display_name": "Rust",
   "language": "rust",
   "name": "rust"
  },
  "language_info": {
   "codemirror_mode": "rust",
   "file_extension": ".rs",
   "mimetype": "text/rust",
   "name": "rust",
   "pygment_lexer": "rust",
   "version": ""
  }
 },
 "nbformat": 4,
 "nbformat_minor": 5
}
