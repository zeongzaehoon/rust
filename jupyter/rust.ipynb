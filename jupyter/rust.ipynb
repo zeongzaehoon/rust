{
 "cells": [
  {
   "cell_type": "markdown",
   "metadata": {},
   "source": [
    "## 2. 기초개념"
   ]
  },
  {
   "cell_type": "markdown",
   "metadata": {},
   "source": [
    "### 2.1 값 출력하기"
   ]
  },
  {
   "cell_type": "code",
   "execution_count": 3,
   "metadata": {},
   "outputs": [
    {
     "name": "stdout",
     "output_type": "stream",
     "text": [
      "Hello, world!\n"
     ]
    }
   ],
   "source": [
    "println!(\"Hello, world!\");"
   ]
  },
  {
   "cell_type": "code",
   "execution_count": 16,
   "metadata": {},
   "outputs": [
    {
     "name": "stdout",
     "output_type": "stream",
     "text": [
      "Hello, world!\n"
     ]
    }
   ],
   "source": [
    "fn say_hello() {\n",
    "\tprintln!(\"Hello, world!\");\n",
    "}\n",
    "\n",
    "say_hello();"
   ]
  },
  {
   "cell_type": "markdown",
   "metadata": {},
   "source": [
    "### 2.2 변수 선언"
   ]
  },
  {
   "cell_type": "code",
   "execution_count": null,
   "metadata": {},
   "outputs": [
    {
     "name": "stdout",
     "output_type": "stream",
     "text": [
      "x: 10\n",
      "y: 1\n"
     ]
    }
   ],
   "source": [
    "// 타입 지정\n",
    "let x: i32 = 10;\n",
    "let y: f64 = 1.0;\n",
    "println!(\"x: {}\", x);\n",
    "println!(\"y: {}\", y);"
   ]
  },
  {
   "cell_type": "code",
   "execution_count": 6,
   "metadata": {},
   "outputs": [
    {
     "name": "stdout",
     "output_type": "stream",
     "text": [
      "x: 10\n",
      "y: 1\n"
     ]
    }
   ],
   "source": [
    "// 타입 지정 X\n",
    "let x = 10;\n",
    "let y = 1.0;\n",
    "println!(\"x: {}\", x);\n",
    "println!(\"y: {}\", y);"
   ]
  },
  {
   "cell_type": "markdown",
   "metadata": {},
   "source": [
    "### 2.3 작명규칙\n",
    "|Name|Python|Rust|\n",
    "|----|------|----|\n",
    "|변수|snake_case=3|let snake_case=3;|\n",
    "|함수|def my_function|fn my_function|\n",
    "|클래스/구조체|class MyClass|struct MyStruct|\n",
    "|상수|CONST=1|const CONST: i32 = 1;|"
   ]
  },
  {
   "cell_type": "markdown",
   "metadata": {},
   "source": [
    "### 2.4 불변성\n",
    "- 파이썬은 변수 선언 후 자유롭게 수정 가능\n",
    "- 러스트는 가변변수로 설정해주지 않으면 수정 불가능"
   ]
  },
  {
   "cell_type": "code",
   "execution_count": 27,
   "metadata": {},
   "outputs": [
    {
     "ename": "Error",
     "evalue": "value assigned to `x` is never read",
     "output_type": "error",
     "traceback": [
      "\u001b[31m[unused_assignments] Error:\u001b[0m value assigned to `x` is never read",
      "   \u001b[38;5;246m╭\u001b[0m\u001b[38;5;246m─\u001b[0m\u001b[38;5;246m[\u001b[0mcommand_27:1:1\u001b[38;5;246m]\u001b[0m",
      "   \u001b[38;5;246m│\u001b[0m",
      " \u001b[38;5;246m2 │\u001b[0m \u001b[38;5;249m \u001b[0m\u001b[38;5;249m \u001b[0m\u001b[38;5;249m \u001b[0m\u001b[38;5;249m \u001b[0m\u001b[38;5;249ml\u001b[0m\u001b[38;5;249me\u001b[0m\u001b[38;5;249mt\u001b[0m\u001b[38;5;249m \u001b[0m\u001b[38;5;54mx\u001b[0m\u001b[38;5;249m \u001b[0m\u001b[38;5;249m=\u001b[0m\u001b[38;5;249m \u001b[0m\u001b[38;5;249m1\u001b[0m\u001b[38;5;249m;\u001b[0m",
      " \u001b[38;5;240m  │\u001b[0m         \u001b[38;5;54m┬\u001b[0m  ",
      " \u001b[38;5;240m  │\u001b[0m         \u001b[38;5;54m╰\u001b[0m\u001b[38;5;54m─\u001b[0m\u001b[38;5;54m─\u001b[0m warning: value assigned to `x` is never read",
      "\u001b[38;5;246m───╯\u001b[0m"
     ]
    },
    {
     "ename": "Error",
     "evalue": "cannot assign twice to immutable variable `x`",
     "output_type": "error",
     "traceback": [
      "\u001b[31m[E0384] Error:\u001b[0m cannot assign twice to immutable variable `x`",
      "   \u001b[38;5;246m╭\u001b[0m\u001b[38;5;246m─\u001b[0m\u001b[38;5;246m[\u001b[0mcommand_27:1:1\u001b[38;5;246m]\u001b[0m",
      "   \u001b[38;5;246m│\u001b[0m",
      " \u001b[38;5;246m2 │\u001b[0m \u001b[38;5;249m \u001b[0m\u001b[38;5;249m \u001b[0m\u001b[38;5;249m \u001b[0m\u001b[38;5;249m \u001b[0m\u001b[38;5;249ml\u001b[0m\u001b[38;5;249me\u001b[0m\u001b[38;5;249mt\u001b[0m\u001b[38;5;249m \u001b[0m\u001b[38;5;54mx\u001b[0m\u001b[38;5;249m \u001b[0m\u001b[38;5;249m=\u001b[0m\u001b[38;5;249m \u001b[0m\u001b[38;5;249m1\u001b[0m\u001b[38;5;249m;\u001b[0m",
      " \u001b[38;5;240m  │\u001b[0m         \u001b[38;5;54m┬\u001b[0m  ",
      " \u001b[38;5;240m  │\u001b[0m         \u001b[38;5;54m╰\u001b[0m\u001b[38;5;54m─\u001b[0m\u001b[38;5;54m─\u001b[0m first assignment to `x`",
      " \u001b[38;5;240m  │\u001b[0m         \u001b[38;5;68m│\u001b[0m  ",
      " \u001b[38;5;240m  │\u001b[0m         \u001b[38;5;68m╰\u001b[0m\u001b[38;5;68m─\u001b[0m\u001b[38;5;68m─\u001b[0m help: consider making this binding mutable: `mut `",
      " \u001b[38;5;246m3 │\u001b[0m \u001b[38;5;249m \u001b[0m\u001b[38;5;249m \u001b[0m\u001b[38;5;249m \u001b[0m\u001b[38;5;249m \u001b[0m\u001b[38;5;100mx\u001b[0m\u001b[38;5;100m \u001b[0m\u001b[38;5;100m=\u001b[0m\u001b[38;5;100m \u001b[0m\u001b[38;5;100m2\u001b[0m\u001b[38;5;249m;\u001b[0m",
      " \u001b[38;5;240m  │\u001b[0m     \u001b[38;5;100m─\u001b[0m\u001b[38;5;100m─\u001b[0m\u001b[38;5;100m┬\u001b[0m\u001b[38;5;100m─\u001b[0m\u001b[38;5;100m─\u001b[0m  ",
      " \u001b[38;5;240m  │\u001b[0m       \u001b[38;5;100m╰\u001b[0m\u001b[38;5;100m─\u001b[0m\u001b[38;5;100m─\u001b[0m\u001b[38;5;100m─\u001b[0m\u001b[38;5;100m─\u001b[0m cannot assign twice to immutable variable",
      " \u001b[38;5;240m  │\u001b[0m ",
      " \u001b[38;5;240m  │\u001b[0m \u001b[38;5;115mNote\u001b[0m: You can change an existing variable to mutable like: `let mut x = x;`",
      "\u001b[38;5;246m───╯\u001b[0m"
     ]
    },
    {
     "ename": "Error",
     "evalue": "unused variable: `num`",
     "output_type": "error",
     "traceback": [
      "\u001b[31m[unused_variables] Error:\u001b[0m unused variable: `num`"
     ]
    }
   ],
   "source": [
    "fn main() {\n",
    "\tlet x = 1;\n",
    "\tx = 2;\n",
    "\tprintln!(\"x: {}\", x);\n",
    "}\n",
    "\n",
    "main();"
   ]
  },
  {
   "cell_type": "code",
   "execution_count": 26,
   "metadata": {},
   "outputs": [
    {
     "name": "stdout",
     "output_type": "stream",
     "text": [
      "x: 1\n",
      "x: 2\n"
     ]
    }
   ],
   "source": [
    "fn main() {\n",
    "\tlet mut x = 1;\n",
    "\tprintln!(\"x: {}\", x);\n",
    "\tx = x + 1;\n",
    "\tprintln!(\"x: {}\", x);\n",
    "}\n",
    "\n",
    "main();"
   ]
  },
  {
   "cell_type": "markdown",
   "metadata": {},
   "source": [
    "### 2.5 섀도잉"
   ]
  },
  {
   "cell_type": "code",
   "execution_count": 25,
   "metadata": {},
   "outputs": [
    {
     "name": "stdout",
     "output_type": "stream",
     "text": [
      "x: 5\n",
      "x: 6\n"
     ]
    }
   ],
   "source": [
    "fn main() {\n",
    "\tlet x = 5;\n",
    "\tprintln!(\"x: {}\", x);\n",
    "\tlet x = 6;\n",
    "\tprintln!(\"x: {}\", x);\n",
    "}\n",
    "\n",
    "main();"
   ]
  },
  {
   "cell_type": "code",
   "execution_count": 24,
   "metadata": {},
   "outputs": [
    {
     "name": "stdout",
     "output_type": "stream",
     "text": [
      "x: 5\n",
      "x: 6\n"
     ]
    }
   ],
   "source": [
    "fn main() {\n",
    "\tlet x = 5;\n",
    "\tprintln!(\"x: {}\", x);\n",
    "\tlet x = x + 1;\n",
    "\tprintln!(\"x: {}\", x);\n",
    "}\n",
    "\n",
    "main();"
   ]
  },
  {
   "cell_type": "markdown",
   "metadata": {},
   "source": [
    "### 2.6 타입\n",
    "|이름|타입|\n",
    "|----|----|\n",
    "|8비트 정수|i8|\n",
    "|16비트 정수|i16|\n",
    "|32비트 정수|i32|\n",
    "|64비트 정수|i64|\n",
    "|128비트 정수|i128|\n",
    "|아키텍처|isize|\n",
    "|부호 없는 8비트 정수|u8|\n",
    "|부호 없는 16비트 정수|u16|\n",
    "|부호 없는 32비트 정수|u32|\n",
    "|부호 없는 64비트 정수|u64|\n",
    "|부호 없는 128비트 정수|u128|\n",
    "|부호 없는 아키텍처|usize|\n",
    "|불리언|bool|\n",
    "|문자열|String|\n",
    "|문자열 슬라이스|str|\n",
    "|32비트 부동소수점 실수|f32|\n",
    "|64비트 부동소수점 실수|f64|"
   ]
  },
  {
   "cell_type": "markdown",
   "metadata": {},
   "source": [
    "#### 타입변환"
   ]
  },
  {
   "cell_type": "code",
   "execution_count": 23,
   "metadata": {},
   "outputs": [
    {
     "name": "stdout",
     "output_type": "stream",
     "text": [
      "x -> y: 1.2 -> 1\n"
     ]
    }
   ],
   "source": [
    "// 파이썬 코드\n",
    "// x = 1.2\n",
    "// y = int(x)\n",
    "// print(y) -> 1\n",
    "\n",
    "fn main() {\n",
    "\tlet x: f64 = 1.2;\n",
    "\tlet y = x as i32;\n",
    "\tprintln!(\"x -> y: {} -> {}\", x, y);\n",
    "}\n",
    "\n",
    "main();"
   ]
  },
  {
   "cell_type": "markdown",
   "metadata": {},
   "source": [
    "### 2.7 상수"
   ]
  },
  {
   "cell_type": "code",
   "execution_count": 22,
   "metadata": {},
   "outputs": [
    {
     "name": "stdout",
     "output_type": "stream",
     "text": [
      "100 is bigger than 10: true\n"
     ]
    }
   ],
   "source": [
    "const CONST: i32 = 10;\n",
    "\n",
    "fn is_big(n: i32) -> bool {\n",
    "\tn > CONST\n",
    "}\n",
    "\n",
    "fn main() {\n",
    "\tlet n = 100;\n",
    "\tprintln!(\"{} is bigger than {}: {}\", n, CONST, is_big(n));\n",
    "}\n",
    "\n",
    "main();"
   ]
  },
  {
   "cell_type": "markdown",
   "metadata": {},
   "source": [
    "## 3. 함수, 매크로"
   ]
  },
  {
   "cell_type": "markdown",
   "metadata": {},
   "source": [
    "### 3.1 함수 기본 형태"
   ]
  },
  {
   "cell_type": "code",
   "execution_count": 21,
   "metadata": {},
   "outputs": [
    {
     "name": "stdout",
     "output_type": "stream",
     "text": [
      "add(first, second): 3\n"
     ]
    }
   ],
   "source": [
    "// 파라미터와 리턴에 타입을 확실히 지정해줘야함\n",
    "\n",
    "fn add(num1: i32, num2: i32) -> i32 {\n",
    "\tnum1 + num2\n",
    "}\n",
    "\n",
    "let first: i32 = 1;\n",
    "let second: i32 = 2;\n",
    "\n",
    "println!(\"add(first, second): {}\", add(first, second));"
   ]
  },
  {
   "cell_type": "code",
   "execution_count": 18,
   "metadata": {},
   "outputs": [
    {
     "name": "stdout",
     "output_type": "stream",
     "text": [
      "add(first, second): 3\n"
     ]
    }
   ],
   "source": [
    "// 파이썬과 달리 기본값을 지정해줄 수 없음\n",
    "// def add(num1: int, num2: int=10)\n",
    "// 파이썬에선 지정 가능. 그러나, 러스트에선 불가능\n",
    "\n",
    "//fn add(num1: i32, num2: i32=10) -> i32 { -> X\n",
    "fn add(num1: i32, num2: i32) -> i32 {\n",
    "\treturn num1 + num2;\n",
    "}\n",
    "\n",
    "let first: i32 = 1;\n",
    "let second: i32 = 2;\n",
    "\n",
    "println!(\"add(first, second): {}\", add(first, second));"
   ]
  },
  {
   "cell_type": "markdown",
   "metadata": {},
   "source": [
    "### 3.2 함수에서 여러 개의 값 리턴"
   ]
  },
  {
   "cell_type": "code",
   "execution_count": 24,
   "metadata": {},
   "outputs": [
    {
     "name": "stdout",
     "output_type": "stream",
     "text": [
      "first: 1\n",
      "second: 2\n"
     ]
    }
   ],
   "source": [
    "fn tuple(num1: i32, num2: i32) -> (i32, i32) {\n",
    "\t(num1, num2)\n",
    "}\n",
    "\n",
    "let (first, second) = tuple(1, 2);\n",
    "\n",
    "println!(\"first: {}\", first);\n",
    "println!(\"second: {}\", second);"
   ]
  },
  {
   "cell_type": "markdown",
   "metadata": {},
   "source": [
    "### 3.3 스코프\n",
    "\n",
    "- what is scope?\n",
    "\t1. 변수에 접근할 수 있는 범위\n",
    "\t2. 파이썬에선 함수가 스코프\n",
    "\t3. 러스트에선 {}가 스코프. {} 밖으로 벗어나면 참조할 수 없음"
   ]
  },
  {
   "cell_type": "code",
   "execution_count": 16,
   "metadata": {},
   "outputs": [
    {
     "name": "stdout",
     "output_type": "stream",
     "text": [
      "my_name: jaehoon\n",
      "Hello: jaehoon\n"
     ]
    }
   ],
   "source": [
    "fn hello(name: String) {\n",
    "\tlet num = 3;\n",
    "\tprintln!(\"Hello: {}\", name);\n",
    "}\n",
    "\n",
    "fn main() {\n",
    "\tlet my_name = \"jaehoon\".to_string();\n",
    "\t{\n",
    "\t\tprintln!(\"my_name: {}\", my_name);\n",
    "\t\tlet my_name = \"zaehoon\"; // zaehoon이라는 새로운 변수가 생성됨\n",
    "\t}\n",
    "\thello(my_name); // 그러나, zaehoon이 아니라 jaehoon이 출력됨\n",
    "}\n",
    "\n",
    "main();"
   ]
  },
  {
   "cell_type": "markdown",
   "metadata": {},
   "source": [
    "### 3.4 익명함수\n",
    "\t- aka lambda in python\n",
    "\t- closure: | |"
   ]
  },
  {
   "cell_type": "code",
   "execution_count": 15,
   "metadata": {},
   "outputs": [
    {
     "name": "stdout",
     "output_type": "stream",
     "text": [
      "func(1): 4\n"
     ]
    }
   ],
   "source": [
    "fn main() {\n",
    "\tlet func = |x: i32| x + 1;\n",
    "\tprintln!(\"func(1): {}\", func(3));\n",
    "}\n",
    "\n",
    "main();"
   ]
  },
  {
   "cell_type": "code",
   "execution_count": 14,
   "metadata": {},
   "outputs": [
    {
     "name": "stdout",
     "output_type": "stream",
     "text": [
      "func(1): 2\n"
     ]
    }
   ],
   "source": [
    "// 결과값 타입 명시 가능\n",
    "\n",
    "fn main() {\n",
    "\tlet func = |x: i32| -> i32 { x + 1 };\n",
    "\tprintln!(\"func(1): {}\", func(1));\n",
    "}\n",
    "\n",
    "main();"
   ]
  },
  {
   "cell_type": "code",
   "execution_count": null,
   "metadata": {},
   "outputs": [
    {
     "ename": "Error",
     "evalue": "expected `;`, found `_fib`",
     "output_type": "error",
     "traceback": [
      "\t_fib(n)",
      " ^^^^ unexpected token",
      "\t}",
      "   error: expected `;`, found `_fib`",
      "expected `;`, found `_fib`",
      "help: add `;` here\n\n;"
     ]
    },
    {
     "ename": "Error",
     "evalue": "cannot find function `_fib` in this scope",
     "output_type": "error",
     "traceback": [
      "\t\t\tlet result = _fib(n - 1) + _fib(n - 2);",
      "                ^^^^ not found in this scope",
      "cannot find function `_fib` in this scope"
     ]
    },
    {
     "ename": "Error",
     "evalue": "cannot find function `_fib` in this scope",
     "output_type": "error",
     "traceback": [
      "\t\t\tlet result = _fib(n - 1) + _fib(n - 2);",
      "                              ^^^^ not found in this scope",
      "cannot find function `_fib` in this scope"
     ]
    },
    {
     "ename": "Error",
     "evalue": "can't compare `i32` with `usize`",
     "output_type": "error",
     "traceback": [
      "\t\tif n < cache.len() {",
      "       ^ no implementation for `i32 < usize` and `i32 > usize`",
      "can't compare `i32` with `usize`",
      "help: the trait `PartialOrd<usize>` is not implemented for `i32`\nbut trait `PartialOrd<i32>` is implemented for it",
      "help: for that trait implementation, expected `i32`, found `usize`"
     ]
    },
    {
     "ename": "Error",
     "evalue": "the type `[{integer}]` cannot be indexed by `i32`",
     "output_type": "error",
     "traceback": [
      "\t\t\treturn cache[n];",
      "          ^^^^^^^^ slice indices are of type `usize` or ranges of `usize`",
      "the type `[{integer}]` cannot be indexed by `i32`",
      "help: the trait `SliceIndex<[{integer}]>` is not implemented for `i32`\nbut it is implemented for `usize`",
      "help: for that trait implementation, expected `usize`, found `i32`"
     ]
    },
    {
     "ename": "Error",
     "evalue": "unused variable: `num`",
     "output_type": "error",
     "traceback": [
      "warning: unused variable: `num`",
      "unused variable: `num`",
      "help: if this is intentional, prefix it with an underscore\n\n_num"
     ]
    }
   ],
   "source": [
    "// 피보나치 수열을 만들어보자\n",
    "// 파이썬은 함수 내에서 자기 자신을 호출할 수 있으므로 이렇게 코드를 짤 수 있다.\n",
    "\n",
    "// def fibonacci(n):\n",
    "// \tcache = {}\n",
    "\n",
    "// \tdef fib(n):\n",
    "// \t\tif n in cache:\n",
    "// \t\t\treturn cache[n]\n",
    "// \t\tif n < 2:\n",
    "// \t\t\treturn n\n",
    "// \t\tcache[n] = fib(n - 1) + fib(n - 2)\n",
    "// \t\treturn cache[n]\n",
    "\t\n",
    "// \treturn fib(n)\n",
    "\n",
    "// 러스트는 클로저가 자기 자신을 호출할 수 없으므로 컴파일 되지 않는다.\n",
    "\n",
    "fn fibonacci(n: i32) -> i32 {\n",
    "\tlet cache = vec![0, 1];\n",
    "\n",
    "\tlet _fib = |n| -> i32 {\n",
    "\t\tif n < cache.len() {\n",
    "\t\t\treturn cache[n];\n",
    "\t\t}\n",
    "\t\telse {\n",
    "\t\t\tlet result = _fib(n - 1) + _fib(n - 2);\n",
    "\t\t\tcache.push(result);\n",
    "\t\t\tresult\n",
    "\t\t}\n",
    "\t}\n",
    "\n",
    "\t_fib(n)\n",
    "}\n",
    "\n",
    "fn main() {\n",
    "\tprintln!(\"fibonacci(10): {}\", fibonacci(10));\n",
    "}\n",
    "\n",
    "main();"
   ]
  },
  {
   "cell_type": "code",
   "execution_count": 13,
   "metadata": {},
   "outputs": [
    {
     "name": "stdout",
     "output_type": "stream",
     "text": [
      "fibonacci(10): 55\n"
     ]
    },
    {
     "name": "stdout",
     "output_type": "stream",
     "text": [
      "fibonacci(0): 0\n",
      "fibonacci(1): 1\n",
      "fibonacci(15): 610\n"
     ]
    }
   ],
   "source": [
    "// 클로저를 사용한 피보나치 (재귀 없이)\n",
    "// 가변성 추가: let mut cache로 변경하여 push() 가능하게 함\n",
    "// 타입 통일: n as usize로 인덱스 타입 맞춤\n",
    "// 경계 조건 처리: n < 0, n <= 1 케이스 명시적 처리\n",
    "// 효율성 개선: 한 번 계산된 값은 캐시에 저장되어 재사용\n",
    "\n",
    "fn fibonacci(n: i32) -> i32 {\n",
    "    if n < 0 {\n",
    "        return 0;\n",
    "    }\n",
    "    \n",
    "    let mut cache = vec![0, 1];\n",
    "    \n",
    "    let mut fib_calc = |target: usize| -> i32 {\n",
    "        if target < cache.len() {\n",
    "            return cache[target];\n",
    "        }\n",
    "        \n",
    "        // 필요한 만큼 계산해서 캐시에 저장\n",
    "        for i in cache.len()..=target {\n",
    "            let next = cache[i-1] + cache[i-2];\n",
    "            cache.push(next);\n",
    "        }\n",
    "        \n",
    "        cache[target]\n",
    "    };\n",
    "    \n",
    "    fib_calc(n as usize)\n",
    "}\n",
    "\n",
    "fn main() {\n",
    "    println!(\"fibonacci(10): {}\", fibonacci(10));\n",
    "    println!(\"fibonacci(0): {}\", fibonacci(0));\n",
    "    println!(\"fibonacci(1): {}\", fibonacci(1));\n",
    "    println!(\"fibonacci(15): {}\", fibonacci(15));\n",
    "}\n",
    "\n",
    "main();"
   ]
  },
  {
   "cell_type": "markdown",
   "metadata": {},
   "source": [
    "## 4.1 조건문과 반복문"
   ]
  },
  {
   "cell_type": "markdown",
   "metadata": {},
   "source": [
    "### 4.1 if/else if/else"
   ]
  },
  {
   "cell_type": "code",
   "execution_count": 12,
   "metadata": {},
   "outputs": [
    {
     "name": "stdout",
     "output_type": "stream",
     "text": [
      "x is less than y\n",
      "x: 1\n",
      "y: 10\n"
     ]
    }
   ],
   "source": [
    "fn main() {\n",
    "\tlet x = 1.0;\n",
    "\tlet y = 10;\n",
    "\n",
    "\tif x < (y as f64) {\n",
    "\t\tprintln!(\"x is less than y\");\n",
    "\t}\n",
    "\telse if x == (y as f64) {\n",
    "\t\tprintln!(\"x is equal to y\");\n",
    "\t}\n",
    "\telse {\n",
    "\t\tprintln!(\"x is greater than y\");\n",
    "\t}\n",
    "\n",
    "\tprintln!(\"x: {}\", x);\n",
    "\tprintln!(\"y: {}\", y);\n",
    "}\n",
    "\n",
    "main();"
   ]
  },
  {
   "cell_type": "markdown",
   "metadata": {},
   "source": [
    "### 4.2 let if\n",
    "\t- 조건문 결과를 변수에 담을 수 있음"
   ]
  },
  {
   "cell_type": "code",
   "execution_count": 11,
   "metadata": {},
   "outputs": [
    {
     "name": "stdout",
     "output_type": "stream",
     "text": [
      "result: x is less than y\n",
      "x: 10\n",
      "y: 20\n"
     ]
    }
   ],
   "source": [
    "fn main() {\n",
    "\tlet x = 10;\n",
    "\tlet y = 20;\n",
    "\n",
    "\tlet result = if x > y {\n",
    "\t\t\"x is greater than y\"\n",
    "\t}\n",
    "\telse if x == y {\n",
    "\t\t\"x is equal to y\"\n",
    "\t}\n",
    "\telse {\n",
    "\t\t\"x is less than y\"\n",
    "\t};\n",
    "\n",
    "\tprintln!(\"result: {}\", result);\n",
    "\tprintln!(\"x: {}\", x);\n",
    "\tprintln!(\"y: {}\", y);\n",
    "}\n",
    "\n",
    "main();"
   ]
  },
  {
   "cell_type": "markdown",
   "metadata": {},
   "source": [
    "### 4.3 for문\n",
    "\n",
    "- 범위를 for문에서 지정\n",
    "- 범위를 객체로 저장하고 for문 동작"
   ]
  },
  {
   "cell_type": "code",
   "execution_count": 10,
   "metadata": {},
   "outputs": [
    {
     "name": "stdout",
     "output_type": "stream",
     "text": [
      "6\n",
      "7\n",
      "8\n",
      "9\n"
     ]
    }
   ],
   "source": [
    "// 범위를 for문에서 지정\n",
    "fn main () {\n",
    "\tfor i in 6..10 {\n",
    "\t\tprintln!(\"{}\", i);\n",
    "\t}\n",
    "}\n",
    "\n",
    "main();"
   ]
  },
  {
   "cell_type": "code",
   "execution_count": 9,
   "metadata": {},
   "outputs": [
    {
     "name": "stdout",
     "output_type": "stream",
     "text": [
      "6\n",
      "7\n",
      "8\n",
      "9\n"
     ]
    }
   ],
   "source": [
    "// 범위를 객체로 만들고 for문을 객체로 돌리기\n",
    "fn main() {\n",
    "\tlet range = 6..10;\n",
    "\tfor i in range {\n",
    "\t\tprintln!(\"{}\", i);\n",
    "\t}\n",
    "}\n",
    "\n",
    "main();"
   ]
  },
  {
   "cell_type": "markdown",
   "metadata": {},
   "source": [
    "### 4.3 while\n",
    "- 조건이 만족하는 동안 코드가 계속해서 반복 실행되는 문법을 의미"
   ]
  },
  {
   "cell_type": "code",
   "execution_count": 8,
   "metadata": {},
   "outputs": [
    {
     "name": "stdout",
     "output_type": "stream",
     "text": [
      "0,\n",
      "1,\n",
      "2,\n",
      "3,\n",
      "4,\n",
      "5,\n",
      "6,\n",
      "7,\n",
      "8,\n",
      "9,\n"
     ]
    }
   ],
   "source": [
    "fn main() {\n",
    "\tlet mut order = 0;\n",
    "\twhile order < 10 {\n",
    "\t\tprintln!(\"{},\", order);\n",
    "\t\torder += 1;\n",
    "\t}\n",
    "}\n",
    "\n",
    "main();"
   ]
  },
  {
   "cell_type": "markdown",
   "metadata": {},
   "source": [
    "### 4.4 loop\n",
    "- 러스트에만 있는 문법\n",
    "- 무한루프를 만들 때 사용됨\n",
    "- 파이썬에선 무한루프를 돌릴 때 while True: 로 쓰는데,\n",
    "- 러스트에선 이를 loop로 대체"
   ]
  },
  {
   "cell_type": "code",
   "execution_count": 7,
   "metadata": {},
   "outputs": [
    {
     "name": "stdout",
     "output_type": "stream",
     "text": [
      "1\n",
      "2\n",
      "3\n",
      "4\n",
      "5\n",
      "6\n",
      "7\n",
      "8\n",
      "9\n",
      "10\n",
      "11\n"
     ]
    }
   ],
   "source": [
    "fn main() {\n",
    "\tlet mut order = 0;\n",
    "\tloop {\n",
    "\t\torder += 1;\n",
    "\t\tprintln!(\"{}\", order);\n",
    "\t\tif order > 10 {\n",
    "\t\t\tbreak;\n",
    "\t\t}\n",
    "\t}\n",
    "}\n",
    "\n",
    "main();"
   ]
  },
  {
   "cell_type": "code",
   "execution_count": 6,
   "metadata": {},
   "outputs": [
    {
     "name": "stdout",
     "output_type": "stream",
     "text": [
      "1\n",
      "2\n",
      "3\n",
      "4\n",
      "5\n"
     ]
    }
   ],
   "source": [
    "fn main() {\n",
    "\tlet mut order = 0;\n",
    "\tlet last_order = loop {\n",
    "\t\torder += 1;\n",
    "\t\tif order == 5 {\n",
    "\t\t\tbreak order; // x값 5 리턴\n",
    "\t\t}\n",
    "\t\tprintln!(\"{}\", order); // 1, 2, 3, 4는 여기서 출력\n",
    "\t};\n",
    "\tprintln!(\"{}\", last_order); // 리턴한 값 5가 여기서 출려됨\n",
    "}\n",
    "\n",
    "main();"
   ]
  },
  {
   "cell_type": "markdown",
   "metadata": {},
   "source": [
    "### 4.5 match\n",
    "- if ... else으로 매칭했을 때 각각 다른 블록이 동작 -> match로 간단히 구현 가능\n",
    "- 3.10 버전 이후 파이썬에서도 구현 가능"
   ]
  },
  {
   "cell_type": "code",
   "execution_count": 2,
   "metadata": {
    "jupyter": {
     "is_executing": true
    }
   },
   "outputs": [
    {
     "name": "stdout",
     "output_type": "stream",
     "text": [
      "hello! jaehoon.\n"
     ]
    }
   ],
   "source": [
    "fn main() {\n",
    "\tlet name = \"jaehoon\";\n",
    "\tmatch name {\n",
    "\t\t\"jaehoon\" => println!(\"hello! jaehoon.\"),\n",
    "\t\t\"dasol\" => println!(\"hello! dasol.\"),\n",
    "\t\t_ => println!(\"hello! somebody.\"),\n",
    "\t}\n",
    "}\n",
    "\n",
    "main();"
   ]
  },
  {
   "cell_type": "code",
   "execution_count": 28,
   "metadata": {},
   "outputs": [],
   "source": [
    "// python code\n",
    "// name = \"jaehoon\"\n",
    "// match name:\n",
    "//\t\tcase \"jaehoon\":\n",
    "//\t\t\tprint(\"hello! jaehoon\")\n",
    "//\t\tcase \"dasol\":\n",
    "//\t\t\tprint(\"hello! dasol\")\n",
    "//\t\tcase _:\n",
    "//\t\t\tprint(\"hello! somebody\")"
   ]
  }
 ],
 "metadata": {
  "kernelspec": {
   "display_name": "Rust",
   "language": "rust",
   "name": "rust"
  },
  "language_info": {
   "codemirror_mode": "rust",
   "file_extension": ".rs",
   "mimetype": "text/rust",
   "name": "rust",
   "pygment_lexer": "rust",
   "version": ""
  }
 },
 "nbformat": 4,
 "nbformat_minor": 2
}
